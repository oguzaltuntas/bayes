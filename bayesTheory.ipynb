{
  "nbformat": 4,
  "nbformat_minor": 0,
  "metadata": {
    "colab": {
      "name": "bayesTheory.ipynb",
      "provenance": [],
      "collapsed_sections": [],
      "authorship_tag": "ABX9TyN4uK+gZsftC9ocOkszktxS",
      "include_colab_link": true
    },
    "kernelspec": {
      "name": "python3",
      "display_name": "Python 3"
    }
  },
  "cells": [
    {
      "cell_type": "markdown",
      "metadata": {
        "id": "view-in-github",
        "colab_type": "text"
      },
      "source": [
        "<a href=\"https://colab.research.google.com/github/oguzaltuntas/bayes/blob/master/bayesTheory.ipynb\" target=\"_parent\"><img src=\"https://colab.research.google.com/assets/colab-badge.svg\" alt=\"Open In Colab\"/></a>"
      ]
    },
    {
      "cell_type": "markdown",
      "metadata": {
        "id": "g5Q5ta-IiC8W",
        "colab_type": "text"
      },
      "source": [
        "#Bayes Teoremi\n",
        "Bu teorem bir sonucun sebebini bulurken sonucun hangi olasılıkla hangi sebepten kaynaklandığını bulmaya yardımcı olur. Bu teorem koşullu olasılıktan faydalanır.\n",
        "\n",
        "Formül: P(A|B) = P(B|A) . P(A) / P(B)\n",
        "\n",
        "Bir araştırmaya göre her 20 araçtan 1 tanesi, fren ile ilgili ortaya çıkan belli bir hataya düşmekte ve tam güvenilir olmamasına rağmen yapılan hata test sonuçlarına göre, fren bozukluğu olan  bir aracın hata  testi %60 pozitif, sorunsuz çalışan araç için ise %5 pozitif sonuç vermektedir. Bu bilgilere göre  fren testi pozitif olan aracın  gerçekten freninin bozuk olma olasılığı nedir?\n",
        "(P(A|B)?( Pozitif çıkan fren testinin bozuk çıkma olasılığı)\n",
        "\n",
        "P(A) : Aracın freninin bozuk olma olasılığı = 1/20\n",
        "\n",
        "P(B) : Testin pozitif çıkması olasılığı = 1/20 * 0.60 + 19/20 * 00.5 = 155/2000\n",
        "\n",
        "P(B|A) : Freni bozuk aracın testinin pozitif çıkma olasılığı = 0.60\n",
        "\n",
        "P(A|B)=P(B|A)*P(A)/P(B) => (0.60 * 1/20) / (155/2000) = 0.387 =~ %3.9 bulunur."
      ]
    },
    {
      "cell_type": "code",
      "metadata": {
        "id": "KIe0-W8Xh4Aa",
        "colab_type": "code",
        "outputId": "8338cbde-f59d-4a40-e90f-d85b4cbc9ed9",
        "colab": {
          "base_uri": "https://localhost:8080/",
          "height": 101
        }
      },
      "source": [
        "class bayes:\n",
        "  def __init__(self, numOfSampleSpace, count,positiveTest,smoothCount):\n",
        "    self.numOfSampleSpace = numOfSampleSpace\n",
        "    self.count = count\n",
        "    self.positiveTest = positiveTest\n",
        "    self.smoothCount = smoothCount\n",
        "\n",
        "\n",
        "  def bayesTheoryCalc(self):    \n",
        "      pa = count/numOfSampleSpace\n",
        "      pb = pa*(positiveTest/100) +(numOfSampleSpace- count)*smoothCount/100\n",
        "      pba = positiveTest/100\n",
        "      pab = pba*pa /pb\n",
        "      print(\"Sonuç:\", pab)\n",
        "\n",
        "numOfSampleSpace = int(input(\"Toplam örnek uzay: \"))      # 20\n",
        "count= int(input(\"Kaç adet?: \"))                          # 1\n",
        "positiveTest= int(input(\"Freni bozuk hata testi pozitif ?: \"))      # Yüzde 60\n",
        "smoothCount = int(input(\"Freni sorunsuz araç adet başarılı test?: \"))      #Yüzde 5\n",
        "\n",
        "\n",
        "calc = bayes(numOfSampleSpace,count,positiveTest,smoothCount)\n",
        "calc.bayesTheoryCalc()\n",
        "\n",
        "\n",
        "\n",
        "\n",
        "\n",
        "\n",
        "\n",
        "\n",
        "\n"
      ],
      "execution_count": 0,
      "outputs": [
        {
          "output_type": "stream",
          "text": [
            "Toplam örnek uzay: 20\n",
            "Kaç adet?: 1\n",
            "Kaç adet pozitif test?: 60\n",
            "Sorunsuz çalışan adet pozitif test?: 5\n",
            "Sonuç: 0.030612244897959183\n"
          ],
          "name": "stdout"
        }
      ]
    }
  ]
}